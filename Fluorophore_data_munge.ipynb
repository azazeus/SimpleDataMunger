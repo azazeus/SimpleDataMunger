{
 "cells": [
  {
   "cell_type": "markdown",
   "metadata": {},
   "source": [
    "## A simple data munger\n",
    "\n",
    "### Uses selenium and chromedriver to open a webpage and read off fluorescence absorption and emission values for all fluorophores and dyes available on that page.\n",
    "### The read values are then written to a Excel file for using in further calculations for overlap and filter transmission calculations."
   ]
  },
  {
   "cell_type": "code",
   "execution_count": 1,
   "metadata": {},
   "outputs": [],
   "source": [
    "from time import sleep\n",
    "from selenium import webdriver\n",
    "from selenium.webdriver.common.keys import Keys\n",
    "\n",
    "driver=webdriver.Chrome(\"C:\\\\Users\\\\Amarb\\\\Downloads\\\\chromedriver_win32\\\\chromedriver.exe\")"
   ]
  },
  {
   "cell_type": "code",
   "execution_count": 3,
   "metadata": {
    "collapsed": true
   },
   "outputs": [],
   "source": [
    "sleep(0.2)\n",
    "driver.get(\"http://www.qpcrdesign.com/spectral-overlay\")"
   ]
  },
  {
   "cell_type": "code",
   "execution_count": 4,
   "metadata": {},
   "outputs": [],
   "source": [
    "a1=driver.find_elements_by_xpath('//*[@class=\"container-fluid\"]')\n",
    "inp_list=a1[1].find_elements_by_class_name('checkbox-inline')\n",
    "spec_dict={};\n",
    "for inp_elem in inp_list:\n",
    "    (inp_elem.find_element_by_tag_name('input')).click()\n",
    "    sleep(0.5)\n",
    "    ab_tb=driver.find_element_by_xpath('//*[@id=\"absorption-spec\"]/div/div[1]/div/div/table')\n",
    "    em_tb=driver.find_element_by_xpath('//*[@id=\"emission-spec\"]/div/div[1]/div/div/table')\n",
    "    ab_entries=ab_tb.find_elements_by_tag_name('td')\n",
    "    ab_spec_list=[];\n",
    "    for entry in ab_entries:\n",
    "        ab_tb_val=entry.get_attribute('innerHTML')\n",
    "        if len(ab_tb_val)>0:\n",
    "            ab_spec_list.append(float(ab_tb_val))\n",
    "        else:\n",
    "            ab_spec_list.append(0.0)\n",
    "    \n",
    "    em_entries=em_tb.find_elements_by_tag_name('td')\n",
    "    em_spec_list=[];\n",
    "    for entry in em_entries:\n",
    "        em_tb_val=entry.get_attribute('innerHTML')\n",
    "        if len(em_tb_val)>0:\n",
    "            em_spec_list.append(float(em_tb_val))\n",
    "        else:\n",
    "            em_spec_list.append(0.0)\n",
    "    (inp_elem.find_element_by_tag_name('input')).click()\n",
    "    spec_dict.update({inp_elem.find_element_by_tag_name('input').get_attribute('value') : [ab_spec_list[::2],ab_spec_list[1::2],em_spec_list[1::2] ]})"
   ]
  },
  {
   "cell_type": "code",
   "execution_count": 5,
   "metadata": {
    "collapsed": true
   },
   "outputs": [],
   "source": [
    "driver.close()"
   ]
  },
  {
   "cell_type": "code",
   "execution_count": 6,
   "metadata": {
    "collapsed": true
   },
   "outputs": [],
   "source": [
    "import xlsxwriter"
   ]
  },
  {
   "cell_type": "code",
   "execution_count": 7,
   "metadata": {
    "collapsed": true
   },
   "outputs": [],
   "source": [
    "workbook = xlsxwriter.Workbook('flou2.xlsx')\n",
    "for ky in spec_dict.keys():\n",
    "    worksheet = workbook.add_worksheet(ky)\n",
    "    worksheet.write('A1','Wavelength')\n",
    "    worksheet.write('B1','Absorption')\n",
    "    worksheet.write('C1','Emission')\n",
    "    row=1\n",
    "    col=0\n",
    "    for dat in spec_dict[ky][0]:\n",
    "        worksheet.write_number(row, col, dat)\n",
    "        row += 1\n",
    "    row=1\n",
    "    for absp in spec_dict[ky][1]:\n",
    "        worksheet.write_number(row, col + 1, absp)\n",
    "        row += 1\n",
    "    row=1\n",
    "    for emis in spec_dict[ky][2]:\n",
    "        worksheet.write_number(row, col + 2, emis)\n",
    "        row += 1"
   ]
  },
  {
   "cell_type": "code",
   "execution_count": 8,
   "metadata": {
    "collapsed": true
   },
   "outputs": [],
   "source": [
    "workbook.close()"
   ]
  },
  {
   "cell_type": "code",
   "execution_count": null,
   "metadata": {
    "collapsed": true
   },
   "outputs": [],
   "source": []
  }
 ],
 "metadata": {
  "kernelspec": {
   "display_name": "Python [default]",
   "language": "python",
   "name": "python3"
  },
  "language_info": {
   "codemirror_mode": {
    "name": "ipython",
    "version": 3
   },
   "file_extension": ".py",
   "mimetype": "text/x-python",
   "name": "python",
   "nbconvert_exporter": "python",
   "pygments_lexer": "ipython3",
   "version": "3.5.4"
  }
 },
 "nbformat": 4,
 "nbformat_minor": 1
}
